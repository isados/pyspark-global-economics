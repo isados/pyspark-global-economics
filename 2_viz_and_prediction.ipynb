{
 "cells": [
  {
   "cell_type": "code",
   "execution_count": 1,
   "metadata": {},
   "outputs": [
    {
     "name": "stderr",
     "output_type": "stream",
     "text": [
      "Setting default log level to \"WARN\".\n",
      "To adjust logging level use sc.setLogLevel(newLevel). For SparkR, use setLogLevel(newLevel).\n",
      "23/10/21 19:21:20 WARN NativeCodeLoader: Unable to load native-hadoop library for your platform... using builtin-java classes where applicable\n"
     ]
    },
    {
     "name": "stdout",
     "output_type": "stream",
     "text": [
      "<pyspark.sql.session.SparkSession object at 0x7fe1f0d2eac0>\n"
     ]
    }
   ],
   "source": [
    "import os\n",
    "\n",
    "from pyspark.sql import SparkSession\n",
    "from pyspark.sql.functions import rand, isnan\n",
    "from pyspark.ml.regression import LinearRegression\n",
    "\n",
    "from pyspark.ml.feature import VectorAssembler\n",
    "from pyspark.ml.pipeline import Pipeline, PipelineModel\n",
    "\n",
    "\n",
    "spark = SparkSession.builder.getOrCreate()\n",
    "\n",
    "print(spark)"
   ]
  },
  {
   "cell_type": "code",
   "execution_count": 2,
   "metadata": {},
   "outputs": [],
   "source": [
    "import seaborn as sns\n",
    "import matplotlib.pyplot as plt\n",
    "import pandas as pd\n",
    "from pathlib import Path"
   ]
  },
  {
   "cell_type": "code",
   "execution_count": 3,
   "metadata": {},
   "outputs": [
    {
     "data": {
      "text/html": [
       "<div>\n",
       "<style scoped>\n",
       "    .dataframe tbody tr th:only-of-type {\n",
       "        vertical-align: middle;\n",
       "    }\n",
       "\n",
       "    .dataframe tbody tr th {\n",
       "        vertical-align: top;\n",
       "    }\n",
       "\n",
       "    .dataframe thead th {\n",
       "        text-align: right;\n",
       "    }\n",
       "</style>\n",
       "<table border=\"1\" class=\"dataframe\">\n",
       "  <thead>\n",
       "    <tr style=\"text-align: right;\">\n",
       "      <th></th>\n",
       "      <th>Country</th>\n",
       "      <th>year</th>\n",
       "      <th>life_exp</th>\n",
       "      <th>hdi_index</th>\n",
       "      <th>co2</th>\n",
       "      <th>gnipc</th>\n",
       "    </tr>\n",
       "  </thead>\n",
       "  <tbody>\n",
       "    <tr>\n",
       "      <th>0</th>\n",
       "      <td>Afghanistan</td>\n",
       "      <td>1990</td>\n",
       "      <td>45.9672</td>\n",
       "      <td>0.273</td>\n",
       "      <td>0.209727</td>\n",
       "      <td>2684.550019</td>\n",
       "    </tr>\n",
       "    <tr>\n",
       "      <th>1</th>\n",
       "      <td>Angola</td>\n",
       "      <td>1990</td>\n",
       "      <td>41.8933</td>\n",
       "      <td>NaN</td>\n",
       "      <td>0.429586</td>\n",
       "      <td>4845.706901</td>\n",
       "    </tr>\n",
       "    <tr>\n",
       "      <th>2</th>\n",
       "      <td>Albania</td>\n",
       "      <td>1990</td>\n",
       "      <td>73.1439</td>\n",
       "      <td>0.647</td>\n",
       "      <td>1.656902</td>\n",
       "      <td>4742.215529</td>\n",
       "    </tr>\n",
       "    <tr>\n",
       "      <th>3</th>\n",
       "      <td>Andorra</td>\n",
       "      <td>1990</td>\n",
       "      <td>78.4063</td>\n",
       "      <td>NaN</td>\n",
       "      <td>7.461153</td>\n",
       "      <td>43773.146500</td>\n",
       "    </tr>\n",
       "    <tr>\n",
       "      <th>4</th>\n",
       "      <td>United Arab Emirates</td>\n",
       "      <td>1990</td>\n",
       "      <td>71.9004</td>\n",
       "      <td>0.728</td>\n",
       "      <td>28.277672</td>\n",
       "      <td>102433.136000</td>\n",
       "    </tr>\n",
       "    <tr>\n",
       "      <th>...</th>\n",
       "      <td>...</td>\n",
       "      <td>...</td>\n",
       "      <td>...</td>\n",
       "      <td>...</td>\n",
       "      <td>...</td>\n",
       "      <td>...</td>\n",
       "    </tr>\n",
       "    <tr>\n",
       "      <th>6235</th>\n",
       "      <td>Samoa</td>\n",
       "      <td>2021</td>\n",
       "      <td>72.7675</td>\n",
       "      <td>0.707</td>\n",
       "      <td>1.238975</td>\n",
       "      <td>5307.953374</td>\n",
       "    </tr>\n",
       "    <tr>\n",
       "      <th>6236</th>\n",
       "      <td>Yemen</td>\n",
       "      <td>2021</td>\n",
       "      <td>63.7534</td>\n",
       "      <td>0.455</td>\n",
       "      <td>0.327510</td>\n",
       "      <td>1314.270189</td>\n",
       "    </tr>\n",
       "    <tr>\n",
       "      <th>6237</th>\n",
       "      <td>South Africa</td>\n",
       "      <td>2021</td>\n",
       "      <td>62.3410</td>\n",
       "      <td>0.713</td>\n",
       "      <td>7.620420</td>\n",
       "      <td>12948.373250</td>\n",
       "    </tr>\n",
       "    <tr>\n",
       "      <th>6238</th>\n",
       "      <td>Zambia</td>\n",
       "      <td>2021</td>\n",
       "      <td>61.2234</td>\n",
       "      <td>0.565</td>\n",
       "      <td>0.357535</td>\n",
       "      <td>3217.767739</td>\n",
       "    </tr>\n",
       "    <tr>\n",
       "      <th>6239</th>\n",
       "      <td>Zimbabwe</td>\n",
       "      <td>2021</td>\n",
       "      <td>59.2531</td>\n",
       "      <td>0.593</td>\n",
       "      <td>0.708562</td>\n",
       "      <td>3809.887158</td>\n",
       "    </tr>\n",
       "  </tbody>\n",
       "</table>\n",
       "<p>6240 rows × 6 columns</p>\n",
       "</div>"
      ],
      "text/plain": [
       "                   Country  year  life_exp  hdi_index        co2  \\\n",
       "0              Afghanistan  1990   45.9672      0.273   0.209727   \n",
       "1                   Angola  1990   41.8933        NaN   0.429586   \n",
       "2                  Albania  1990   73.1439      0.647   1.656902   \n",
       "3                  Andorra  1990   78.4063        NaN   7.461153   \n",
       "4     United Arab Emirates  1990   71.9004      0.728  28.277672   \n",
       "...                    ...   ...       ...        ...        ...   \n",
       "6235                 Samoa  2021   72.7675      0.707   1.238975   \n",
       "6236                 Yemen  2021   63.7534      0.455   0.327510   \n",
       "6237          South Africa  2021   62.3410      0.713   7.620420   \n",
       "6238                Zambia  2021   61.2234      0.565   0.357535   \n",
       "6239              Zimbabwe  2021   59.2531      0.593   0.708562   \n",
       "\n",
       "              gnipc  \n",
       "0       2684.550019  \n",
       "1       4845.706901  \n",
       "2       4742.215529  \n",
       "3      43773.146500  \n",
       "4     102433.136000  \n",
       "...             ...  \n",
       "6235    5307.953374  \n",
       "6236    1314.270189  \n",
       "6237   12948.373250  \n",
       "6238    3217.767739  \n",
       "6239    3809.887158  \n",
       "\n",
       "[6240 rows x 6 columns]"
      ]
     },
     "execution_count": 3,
     "metadata": {},
     "output_type": "execute_result"
    }
   ],
   "source": [
    "data_folder = Path('data/processed')\n",
    "\n",
    "df = pd.read_csv(data_folder/'time_series.csv')\n",
    "df"
   ]
  },
  {
   "cell_type": "code",
   "execution_count": 4,
   "metadata": {},
   "outputs": [
    {
     "data": {
      "text/plain": [
       "<AxesSubplot: >"
      ]
     },
     "execution_count": 4,
     "metadata": {},
     "output_type": "execute_result"
    },
    {
     "data": {
      "image/png": "[encoded data removed]",
      "text/plain": [
       "<Figure size 640x480 with 2 Axes>"
      ]
     },
     "metadata": {},
     "output_type": "display_data"
    }
   ],
   "source": [
    "numeric_cols = ['year', 'life_exp', 'hdi_index', 'co2', 'gnipc']\n",
    "corr = df[numeric_cols].corr()\n",
    "sns.heatmap(corr, annot=True)"
   ]
  },
  {
   "cell_type": "markdown",
   "metadata": {},
   "source": [
    "Bases on this matrix, we can see that the year column doesn't correlate with any other column, so we ignore it\n",
    "We see that we can use the Human Development Index (`hdi_index`) as a good target for a predictive algorithm.\n",
    "We can use the variables `life_exp`, `gnipc` and `co2` as predictors"
   ]
  },
  {
   "cell_type": "markdown",
   "metadata": {},
   "source": [
    "## Modeling"
   ]
  },
  {
   "cell_type": "code",
   "execution_count": 5,
   "metadata": {},
   "outputs": [
    {
     "data": {
      "text/html": [
       "<div>\n",
       "<style scoped>\n",
       "    .dataframe tbody tr th:only-of-type {\n",
       "        vertical-align: middle;\n",
       "    }\n",
       "\n",
       "    .dataframe tbody tr th {\n",
       "        vertical-align: top;\n",
       "    }\n",
       "\n",
       "    .dataframe thead th {\n",
       "        text-align: right;\n",
       "    }\n",
       "</style>\n",
       "<table border=\"1\" class=\"dataframe\">\n",
       "  <thead>\n",
       "    <tr style=\"text-align: right;\">\n",
       "      <th></th>\n",
       "      <th>Country</th>\n",
       "      <th>year</th>\n",
       "      <th>life_exp</th>\n",
       "      <th>hdi_index</th>\n",
       "      <th>co2</th>\n",
       "      <th>gnipc</th>\n",
       "    </tr>\n",
       "  </thead>\n",
       "  <tbody>\n",
       "    <tr>\n",
       "      <th>0</th>\n",
       "      <td>Afghanistan</td>\n",
       "      <td>1990</td>\n",
       "      <td>45.9672</td>\n",
       "      <td>0.273</td>\n",
       "      <td>0.209727</td>\n",
       "      <td>2684.550019</td>\n",
       "    </tr>\n",
       "    <tr>\n",
       "      <th>1</th>\n",
       "      <td>Angola</td>\n",
       "      <td>1990</td>\n",
       "      <td>41.8933</td>\n",
       "      <td>NaN</td>\n",
       "      <td>0.429586</td>\n",
       "      <td>4845.706901</td>\n",
       "    </tr>\n",
       "    <tr>\n",
       "      <th>2</th>\n",
       "      <td>Albania</td>\n",
       "      <td>1990</td>\n",
       "      <td>73.1439</td>\n",
       "      <td>0.647</td>\n",
       "      <td>1.656902</td>\n",
       "      <td>4742.215529</td>\n",
       "    </tr>\n",
       "    <tr>\n",
       "      <th>3</th>\n",
       "      <td>Andorra</td>\n",
       "      <td>1990</td>\n",
       "      <td>78.4063</td>\n",
       "      <td>NaN</td>\n",
       "      <td>7.461153</td>\n",
       "      <td>43773.146500</td>\n",
       "    </tr>\n",
       "    <tr>\n",
       "      <th>4</th>\n",
       "      <td>United Arab Emirates</td>\n",
       "      <td>1990</td>\n",
       "      <td>71.9004</td>\n",
       "      <td>0.728</td>\n",
       "      <td>28.277672</td>\n",
       "      <td>102433.136000</td>\n",
       "    </tr>\n",
       "    <tr>\n",
       "      <th>...</th>\n",
       "      <td>...</td>\n",
       "      <td>...</td>\n",
       "      <td>...</td>\n",
       "      <td>...</td>\n",
       "      <td>...</td>\n",
       "      <td>...</td>\n",
       "    </tr>\n",
       "    <tr>\n",
       "      <th>6235</th>\n",
       "      <td>Samoa</td>\n",
       "      <td>2021</td>\n",
       "      <td>72.7675</td>\n",
       "      <td>0.707</td>\n",
       "      <td>1.238975</td>\n",
       "      <td>5307.953374</td>\n",
       "    </tr>\n",
       "    <tr>\n",
       "      <th>6236</th>\n",
       "      <td>Yemen</td>\n",
       "      <td>2021</td>\n",
       "      <td>63.7534</td>\n",
       "      <td>0.455</td>\n",
       "      <td>0.327510</td>\n",
       "      <td>1314.270189</td>\n",
       "    </tr>\n",
       "    <tr>\n",
       "      <th>6237</th>\n",
       "      <td>South Africa</td>\n",
       "      <td>2021</td>\n",
       "      <td>62.3410</td>\n",
       "      <td>0.713</td>\n",
       "      <td>7.620420</td>\n",
       "      <td>12948.373250</td>\n",
       "    </tr>\n",
       "    <tr>\n",
       "      <th>6238</th>\n",
       "      <td>Zambia</td>\n",
       "      <td>2021</td>\n",
       "      <td>61.2234</td>\n",
       "      <td>0.565</td>\n",
       "      <td>0.357535</td>\n",
       "      <td>3217.767739</td>\n",
       "    </tr>\n",
       "    <tr>\n",
       "      <th>6239</th>\n",
       "      <td>Zimbabwe</td>\n",
       "      <td>2021</td>\n",
       "      <td>59.2531</td>\n",
       "      <td>0.593</td>\n",
       "      <td>0.708562</td>\n",
       "      <td>3809.887158</td>\n",
       "    </tr>\n",
       "  </tbody>\n",
       "</table>\n",
       "<p>6053 rows × 6 columns</p>\n",
       "</div>"
      ],
      "text/plain": [
       "                   Country  year  life_exp  hdi_index        co2  \\\n",
       "0              Afghanistan  1990   45.9672      0.273   0.209727   \n",
       "1                   Angola  1990   41.8933        NaN   0.429586   \n",
       "2                  Albania  1990   73.1439      0.647   1.656902   \n",
       "3                  Andorra  1990   78.4063        NaN   7.461153   \n",
       "4     United Arab Emirates  1990   71.9004      0.728  28.277672   \n",
       "...                    ...   ...       ...        ...        ...   \n",
       "6235                 Samoa  2021   72.7675      0.707   1.238975   \n",
       "6236                 Yemen  2021   63.7534      0.455   0.327510   \n",
       "6237          South Africa  2021   62.3410      0.713   7.620420   \n",
       "6238                Zambia  2021   61.2234      0.565   0.357535   \n",
       "6239              Zimbabwe  2021   59.2531      0.593   0.708562   \n",
       "\n",
       "              gnipc  \n",
       "0       2684.550019  \n",
       "1       4845.706901  \n",
       "2       4742.215529  \n",
       "3      43773.146500  \n",
       "4     102433.136000  \n",
       "...             ...  \n",
       "6235    5307.953374  \n",
       "6236    1314.270189  \n",
       "6237   12948.373250  \n",
       "6238    3217.767739  \n",
       "6239    3809.887158  \n",
       "\n",
       "[6053 rows x 6 columns]"
      ]
     },
     "execution_count": 5,
     "metadata": {},
     "output_type": "execute_result"
    }
   ],
   "source": [
    "target = 'hdi_index'\n",
    "features = ['co2', 'life_exp', 'gnipc']\n",
    "\n",
    "# Remove rows with null values in the feature set\n",
    "df_clean = df.dropna(axis=0, how='any', subset=features)\n",
    "df_clean"
   ]
  },
  {
   "cell_type": "code",
   "execution_count": 6,
   "metadata": {},
   "outputs": [
    {
     "name": "stdout",
     "output_type": "stream",
     "text": [
      "There are 6053 rows in this table\n"
     ]
    }
   ],
   "source": [
    "#| output: false\n",
    "print(f'There are {df_clean.shape[0]} rows in this table')"
   ]
  },
  {
   "cell_type": "markdown",
   "metadata": {},
   "source": [
    "Let's go with 80/20 split for train/test split"
   ]
  },
  {
   "cell_type": "markdown",
   "metadata": {},
   "source": [
    "## 80/20 Split"
   ]
  },
  {
   "cell_type": "markdown",
   "metadata": {},
   "source": [
    "let's shuffle the dataset using pyspark shuffle and then place the rows with the null target values (i.e. null hdi_index values) with the test set."
   ]
  },
  {
   "cell_type": "code",
   "execution_count": 7,
   "metadata": {},
   "outputs": [],
   "source": [
    "# Training & Test Split\n",
    "df_clean\n",
    "num_records = df_clean.shape[0]\n",
    "df_spark = spark.createDataFrame(df_clean)"
   ]
  },
  {
   "cell_type": "code",
   "execution_count": 8,
   "metadata": {},
   "outputs": [],
   "source": [
    "# Random Shuffl\n",
    "random_shuffle = df_spark.orderBy(rand(42)).select(features+[target])\n",
    "# Place null values at the last\n",
    "df_shuffled = random_shuffle.filter(~isnan('hdi_index'))\\\n",
    "    .union(\n",
    "    random_shuffle.filter(isnan('hdi_index'))\n",
    ")\n",
    "split = int(num_records*0.8)\n",
    "\n",
    "train = df_shuffled.limit(split)\n",
    "test = df_shuffled.offset(split)"
   ]
  },
  {
   "cell_type": "code",
   "execution_count": null,
   "metadata": {},
   "outputs": [],
   "source": [
    "\n",
    "\n"
   ]
  },
  {
   "cell_type": "code",
   "execution_count": null,
   "metadata": {},
   "outputs": [],
   "source": []
  },
  {
   "cell_type": "code",
   "execution_count": 9,
   "metadata": {},
   "outputs": [
    {
     "name": "stderr",
     "output_type": "stream",
     "text": [
      "23/10/21 19:21:33 WARN Instrumentation: [64d0cf62] regParam is zero, which might cause numerical instability and overfitting.\n",
      "23/10/21 19:21:34 WARN InstanceBuilder: Failed to load implementation from:dev.ludovic.netlib.blas.VectorBLAS\n",
      "23/10/21 19:21:34 WARN GarbageCollectionMetrics: To enable non-built-in garbage collector(s) List(G1 Concurrent GC), users should configure it(them) to spark.eventLog.gcMetrics.youngGenerationGarbageCollectors or spark.eventLog.gcMetrics.oldGenerationGarbageCollectors\n",
      "                                                                                \r"
     ]
    }
   ],
   "source": [
    "assembler = VectorAssembler(inputCols=features, outputCol='features')\n",
    "# assembler.transform(train).show()\n",
    "\n",
    "lr = LinearRegression(labelCol='hdi_index')\n",
    "\n",
    "pipe = Pipeline(stages=[assembler, lr])\n",
    "trained_model = pipe.fit(train)"
   ]
  },
  {
   "cell_type": "code",
   "execution_count": 10,
   "metadata": {},
   "outputs": [
    {
     "data": {
      "text/plain": [
       "0.056643843399572166"
      ]
     },
     "execution_count": 10,
     "metadata": {},
     "output_type": "execute_result"
    }
   ],
   "source": [
    "from pyspark.ml.evaluation import RegressionEvaluator\n",
    "\n",
    "predictions = trained_model.transform(test)\n",
    "evaluator = RegressionEvaluator(labelCol=target)\n",
    "evaluator.evaluate(predictions.filter(~isnan(target)))"
   ]
  },
  {
   "cell_type": "markdown",
   "metadata": {},
   "source": [
    "### Save the model"
   ]
  },
  {
   "cell_type": "code",
   "execution_count": 11,
   "metadata": {},
   "outputs": [
    {
     "name": "stderr",
     "output_type": "stream",
     "text": [
      "                                                                                \r"
     ]
    }
   ],
   "source": [
    "os.makedirs('models', exist_ok=True)\n",
    "lr_model_path = 'models/lr'\n",
    "if not os.path.exists(lr_model_path):\n",
    "    trained_model.save(lr_model_path)"
   ]
  },
  {
   "cell_type": "markdown",
   "metadata": {},
   "source": [
    "### Load the Model"
   ]
  },
  {
   "cell_type": "code",
   "execution_count": 12,
   "metadata": {},
   "outputs": [
    {
     "data": {
      "text/plain": [
       "DataFrame[co2: double, life_exp: double, gnipc: double, hdi_index: double, features: vector, prediction: double]"
      ]
     },
     "execution_count": 12,
     "metadata": {},
     "output_type": "execute_result"
    }
   ],
   "source": [
    "model = PipelineModel.load('models/lr')\n",
    "model.transform(test)"
   ]
  }
 ],
 "metadata": {
  "kernelspec": {
   "display_name": "Python 3",
   "language": "python",
   "name": "python3"
  },
  "language_info": {
   "codemirror_mode": {
    "name": "ipython",
    "version": 3
   },
   "file_extension": ".py",
   "mimetype": "text/x-python",
   "name": "python",
   "nbconvert_exporter": "python",
   "pygments_lexer": "ipython3",
   "version": "3.8.5"
  }
 },
 "nbformat": 4,
 "nbformat_minor": 2
}
